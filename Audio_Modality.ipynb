{
 "cells": [
  {
   "cell_type": "code",
   "execution_count": 1,
   "id": "18f728e2",
   "metadata": {},
   "outputs": [],
   "source": [
    "import numpy as np\n",
    "from sklearn.model_selection import train_test_split\n",
    "import splitfolders\n",
    "import librosa\n",
    "import librosa\n",
    "import numpy as np\n",
    "import matplotlib.pyplot as plt\n",
    "import pandas as pd\n",
    "import os\n"
   ]
  },
  {
   "cell_type": "code",
   "execution_count": 10,
   "id": "0717d15a",
   "metadata": {},
   "outputs": [
    {
     "data": {
      "text/plain": [
       "['angry', 'fear', 'happy', 'sad']"
      ]
     },
     "execution_count": 10,
     "metadata": {},
     "output_type": "execute_result"
    }
   ],
   "source": [
    "TESS = 'EmotionData/'\n",
    "dir_list = os.listdir(TESS)\n",
    "dir_list.sort()\n",
    "dir_list"
   ]
  },
  {
   "cell_type": "code",
   "execution_count": 17,
   "id": "045a2fa5",
   "metadata": {},
   "outputs": [
    {
     "data": {
      "text/plain": [
       "angry    100\n",
       "fear     100\n",
       "happy    100\n",
       "sad      100\n",
       "Name: labels, dtype: int64"
      ]
     },
     "execution_count": 17,
     "metadata": {},
     "output_type": "execute_result"
    }
   ],
   "source": [
    "path = []\n",
    "emotion = []\n",
    "\n",
    "for i in dir_list:\n",
    "    fname = os.listdir(TESS + i)\n",
    "    for f in fname:\n",
    "        if i == 'angry':\n",
    "            emotion.append('angry')\n",
    "        elif i == 'fear':\n",
    "            emotion.append('fear')\n",
    "        elif i == 'happy':\n",
    "            emotion.append('happy')              \n",
    "        elif i == 'sad':\n",
    "            emotion.append('sad')\n",
    "        else:\n",
    "            emotion.append('Unknown')\n",
    "        path.append(TESS + i + \"/\" + f)\n",
    "\n",
    "TESS_df = pd.DataFrame(emotion, columns = ['labels'])\n",
    "TESS_df = pd.concat([TESS_df,pd.DataFrame(path, columns = ['path'])],axis=1)\n",
    "TESS_df.labels.value_counts()"
   ]
  },
  {
   "cell_type": "code",
   "execution_count": 18,
   "id": "a39c819e",
   "metadata": {},
   "outputs": [
    {
     "data": {
      "text/html": [
       "<div>\n",
       "<style scoped>\n",
       "    .dataframe tbody tr th:only-of-type {\n",
       "        vertical-align: middle;\n",
       "    }\n",
       "\n",
       "    .dataframe tbody tr th {\n",
       "        vertical-align: top;\n",
       "    }\n",
       "\n",
       "    .dataframe thead th {\n",
       "        text-align: right;\n",
       "    }\n",
       "</style>\n",
       "<table border=\"1\" class=\"dataframe\">\n",
       "  <thead>\n",
       "    <tr style=\"text-align: right;\">\n",
       "      <th></th>\n",
       "      <th>labels</th>\n",
       "      <th>path</th>\n",
       "    </tr>\n",
       "  </thead>\n",
       "  <tbody>\n",
       "    <tr>\n",
       "      <th>0</th>\n",
       "      <td>angry</td>\n",
       "      <td>EmotionData/angry/YAF_merge_angry.wav</td>\n",
       "    </tr>\n",
       "    <tr>\n",
       "      <th>1</th>\n",
       "      <td>angry</td>\n",
       "      <td>EmotionData/angry/YAF_mess_angry.wav</td>\n",
       "    </tr>\n",
       "    <tr>\n",
       "      <th>2</th>\n",
       "      <td>angry</td>\n",
       "      <td>EmotionData/angry/YAF_met_angry.wav</td>\n",
       "    </tr>\n",
       "    <tr>\n",
       "      <th>3</th>\n",
       "      <td>angry</td>\n",
       "      <td>EmotionData/angry/YAF_mill_angry.wav</td>\n",
       "    </tr>\n",
       "    <tr>\n",
       "      <th>4</th>\n",
       "      <td>angry</td>\n",
       "      <td>EmotionData/angry/YAF_mob_angry.wav</td>\n",
       "    </tr>\n",
       "    <tr>\n",
       "      <th>...</th>\n",
       "      <td>...</td>\n",
       "      <td>...</td>\n",
       "    </tr>\n",
       "    <tr>\n",
       "      <th>395</th>\n",
       "      <td>sad</td>\n",
       "      <td>EmotionData/sad/YAF_wife_sad.wav</td>\n",
       "    </tr>\n",
       "    <tr>\n",
       "      <th>396</th>\n",
       "      <td>sad</td>\n",
       "      <td>EmotionData/sad/YAF_wire_sad.wav</td>\n",
       "    </tr>\n",
       "    <tr>\n",
       "      <th>397</th>\n",
       "      <td>sad</td>\n",
       "      <td>EmotionData/sad/YAF_witch_sad.wav</td>\n",
       "    </tr>\n",
       "    <tr>\n",
       "      <th>398</th>\n",
       "      <td>sad</td>\n",
       "      <td>EmotionData/sad/YAF_yearn_sad.wav</td>\n",
       "    </tr>\n",
       "    <tr>\n",
       "      <th>399</th>\n",
       "      <td>sad</td>\n",
       "      <td>EmotionData/sad/YAF_yes_sad.wav</td>\n",
       "    </tr>\n",
       "  </tbody>\n",
       "</table>\n",
       "<p>400 rows × 2 columns</p>\n",
       "</div>"
      ],
      "text/plain": [
       "    labels                                   path\n",
       "0    angry  EmotionData/angry/YAF_merge_angry.wav\n",
       "1    angry   EmotionData/angry/YAF_mess_angry.wav\n",
       "2    angry    EmotionData/angry/YAF_met_angry.wav\n",
       "3    angry   EmotionData/angry/YAF_mill_angry.wav\n",
       "4    angry    EmotionData/angry/YAF_mob_angry.wav\n",
       "..     ...                                    ...\n",
       "395    sad       EmotionData/sad/YAF_wife_sad.wav\n",
       "396    sad       EmotionData/sad/YAF_wire_sad.wav\n",
       "397    sad      EmotionData/sad/YAF_witch_sad.wav\n",
       "398    sad      EmotionData/sad/YAF_yearn_sad.wav\n",
       "399    sad        EmotionData/sad/YAF_yes_sad.wav\n",
       "\n",
       "[400 rows x 2 columns]"
      ]
     },
     "execution_count": 18,
     "metadata": {},
     "output_type": "execute_result"
    }
   ],
   "source": [
    "TESS_df"
   ]
  },
  {
   "cell_type": "code",
   "execution_count": 111,
   "id": "74ae53fc",
   "metadata": {
    "scrolled": true
   },
   "outputs": [
    {
     "data": {
      "text/html": [
       "<div>\n",
       "<style scoped>\n",
       "    .dataframe tbody tr th:only-of-type {\n",
       "        vertical-align: middle;\n",
       "    }\n",
       "\n",
       "    .dataframe tbody tr th {\n",
       "        vertical-align: top;\n",
       "    }\n",
       "\n",
       "    .dataframe thead th {\n",
       "        text-align: right;\n",
       "    }\n",
       "</style>\n",
       "<table border=\"1\" class=\"dataframe\">\n",
       "  <thead>\n",
       "    <tr style=\"text-align: right;\">\n",
       "      <th></th>\n",
       "      <th>MFCC</th>\n",
       "      <th>ZCR</th>\n",
       "      <th>CHROMA</th>\n",
       "    </tr>\n",
       "  </thead>\n",
       "  <tbody>\n",
       "    <tr>\n",
       "      <th>0</th>\n",
       "      <td>[-11.359674, -15.395371, -32.029984, -31.56089...</td>\n",
       "      <td>[0.0361328125, 0.0576171875, 0.078125, 0.07763...</td>\n",
       "      <td>[0.52792865, 0.40545723, 0.3559618, 0.31730166...</td>\n",
       "    </tr>\n",
       "    <tr>\n",
       "      <th>1</th>\n",
       "      <td>[-13.067144, -16.793358, -30.72449, -30.432323...</td>\n",
       "      <td>[0.03515625, 0.05078125, 0.06787109375, 0.0649...</td>\n",
       "      <td>[0.34744772, 0.2542026, 0.23501937, 0.22083811...</td>\n",
       "    </tr>\n",
       "    <tr>\n",
       "      <th>2</th>\n",
       "      <td>[-11.388997, -16.44942, -23.305714, -23.869122...</td>\n",
       "      <td>[0.0546875, 0.0732421875, 0.0849609375, 0.0576...</td>\n",
       "      <td>[0.3407823, 0.26774713, 0.29300687, 0.32861352...</td>\n",
       "    </tr>\n",
       "    <tr>\n",
       "      <th>3</th>\n",
       "      <td>[-18.572832, -21.326271, -32.238346, -32.48689...</td>\n",
       "      <td>[0.033203125, 0.05126953125, 0.06787109375, 0....</td>\n",
       "      <td>[0.43173862, 0.32347226, 0.2850597, 0.25523612...</td>\n",
       "    </tr>\n",
       "    <tr>\n",
       "      <th>4</th>\n",
       "      <td>[-17.09483, -22.037523, -30.141798, -29.664394...</td>\n",
       "      <td>[0.02197265625, 0.03662109375, 0.0517578125, 0...</td>\n",
       "      <td>[0.28852633, 0.21315677, 0.28149736, 0.2530801...</td>\n",
       "    </tr>\n",
       "  </tbody>\n",
       "</table>\n",
       "</div>"
      ],
      "text/plain": [
       "                                                MFCC  \\\n",
       "0  [-11.359674, -15.395371, -32.029984, -31.56089...   \n",
       "1  [-13.067144, -16.793358, -30.72449, -30.432323...   \n",
       "2  [-11.388997, -16.44942, -23.305714, -23.869122...   \n",
       "3  [-18.572832, -21.326271, -32.238346, -32.48689...   \n",
       "4  [-17.09483, -22.037523, -30.141798, -29.664394...   \n",
       "\n",
       "                                                 ZCR  \\\n",
       "0  [0.0361328125, 0.0576171875, 0.078125, 0.07763...   \n",
       "1  [0.03515625, 0.05078125, 0.06787109375, 0.0649...   \n",
       "2  [0.0546875, 0.0732421875, 0.0849609375, 0.0576...   \n",
       "3  [0.033203125, 0.05126953125, 0.06787109375, 0....   \n",
       "4  [0.02197265625, 0.03662109375, 0.0517578125, 0...   \n",
       "\n",
       "                                              CHROMA  \n",
       "0  [0.52792865, 0.40545723, 0.3559618, 0.31730166...  \n",
       "1  [0.34744772, 0.2542026, 0.23501937, 0.22083811...  \n",
       "2  [0.3407823, 0.26774713, 0.29300687, 0.32861352...  \n",
       "3  [0.43173862, 0.32347226, 0.2850597, 0.25523612...  \n",
       "4  [0.28852633, 0.21315677, 0.28149736, 0.2530801...  "
      ]
     },
     "execution_count": 111,
     "metadata": {},
     "output_type": "execute_result"
    }
   ],
   "source": [
    "df = pd.DataFrame(columns=['MFCC', 'ZCR', 'CHROMA'])\n",
    "counter=0\n",
    "for index,path in enumerate(TESS_df.path):\n",
    "    signal, sample_rate = librosa.load(path\n",
    "                                  ,duration=2.5\n",
    "                                  ,sr=44100\n",
    "                                  ,offset=0.5\n",
    "                                 )\n",
    "    sample_rate = np.array(sample_rate)\n",
    "    \n",
    "    # mean as the feature\n",
    "    mfccs = np.mean(librosa.feature.mfcc(y=signal, sr=sample_rate, n_mfcc=13), axis=0)\n",
    "    df.loc[counter, 'MFCC'] = mfccs\n",
    "    \n",
    "    zcr =  np.mean(librosa.feature.zero_crossing_rate(y=signal), axis=0)\n",
    "    df.loc[counter, 'ZCR'] = zcr\n",
    "    \n",
    "    chromagram = np.mean(librosa.feature.chroma_stft(y=signal, sr=sample_rate), axis=0)\n",
    "    df.loc[counter, 'CHROMA'] = chromagram\n",
    "    \n",
    "    counter=counter+1   \n",
    "\n",
    "# Check a few records to make sure its processed successfully\n",
    "df.head()\n"
   ]
  },
  {
   "cell_type": "code",
   "execution_count": 113,
   "id": "870a6f59",
   "metadata": {},
   "outputs": [
    {
     "data": {
      "text/html": [
       "<div>\n",
       "<style scoped>\n",
       "    .dataframe tbody tr th:only-of-type {\n",
       "        vertical-align: middle;\n",
       "    }\n",
       "\n",
       "    .dataframe tbody tr th {\n",
       "        vertical-align: top;\n",
       "    }\n",
       "\n",
       "    .dataframe thead th {\n",
       "        text-align: right;\n",
       "    }\n",
       "</style>\n",
       "<table border=\"1\" class=\"dataframe\">\n",
       "  <thead>\n",
       "    <tr style=\"text-align: right;\">\n",
       "      <th></th>\n",
       "      <th>labels</th>\n",
       "      <th>path</th>\n",
       "      <th>0</th>\n",
       "      <th>1</th>\n",
       "      <th>2</th>\n",
       "      <th>3</th>\n",
       "      <th>4</th>\n",
       "      <th>5</th>\n",
       "      <th>6</th>\n",
       "      <th>7</th>\n",
       "      <th>...</th>\n",
       "      <th>168</th>\n",
       "      <th>169</th>\n",
       "      <th>170</th>\n",
       "      <th>171</th>\n",
       "      <th>172</th>\n",
       "      <th>173</th>\n",
       "      <th>174</th>\n",
       "      <th>175</th>\n",
       "      <th>176</th>\n",
       "      <th>177</th>\n",
       "    </tr>\n",
       "  </thead>\n",
       "  <tbody>\n",
       "    <tr>\n",
       "      <th>0</th>\n",
       "      <td>angry</td>\n",
       "      <td>EmotionData/angry/YAF_merge_angry.wav</td>\n",
       "      <td>-11.359674</td>\n",
       "      <td>-15.395371</td>\n",
       "      <td>-32.029984</td>\n",
       "      <td>-31.560892</td>\n",
       "      <td>-31.822456</td>\n",
       "      <td>-32.856197</td>\n",
       "      <td>-32.751453</td>\n",
       "      <td>-31.604750</td>\n",
       "      <td>...</td>\n",
       "      <td>0.0</td>\n",
       "      <td>0.0</td>\n",
       "      <td>0.0</td>\n",
       "      <td>0.0</td>\n",
       "      <td>0.0</td>\n",
       "      <td>0.0</td>\n",
       "      <td>0.0</td>\n",
       "      <td>0.0</td>\n",
       "      <td>0.0</td>\n",
       "      <td>0.0</td>\n",
       "    </tr>\n",
       "    <tr>\n",
       "      <th>1</th>\n",
       "      <td>angry</td>\n",
       "      <td>EmotionData/angry/YAF_mess_angry.wav</td>\n",
       "      <td>-13.067144</td>\n",
       "      <td>-16.793358</td>\n",
       "      <td>-30.724489</td>\n",
       "      <td>-30.432323</td>\n",
       "      <td>-29.272457</td>\n",
       "      <td>-29.151882</td>\n",
       "      <td>-29.921780</td>\n",
       "      <td>-27.839539</td>\n",
       "      <td>...</td>\n",
       "      <td>0.0</td>\n",
       "      <td>0.0</td>\n",
       "      <td>0.0</td>\n",
       "      <td>0.0</td>\n",
       "      <td>0.0</td>\n",
       "      <td>0.0</td>\n",
       "      <td>0.0</td>\n",
       "      <td>0.0</td>\n",
       "      <td>0.0</td>\n",
       "      <td>0.0</td>\n",
       "    </tr>\n",
       "    <tr>\n",
       "      <th>2</th>\n",
       "      <td>angry</td>\n",
       "      <td>EmotionData/angry/YAF_met_angry.wav</td>\n",
       "      <td>-11.388997</td>\n",
       "      <td>-16.449421</td>\n",
       "      <td>-23.305714</td>\n",
       "      <td>-23.869122</td>\n",
       "      <td>-24.846775</td>\n",
       "      <td>-25.317547</td>\n",
       "      <td>-26.140451</td>\n",
       "      <td>-28.348970</td>\n",
       "      <td>...</td>\n",
       "      <td>0.0</td>\n",
       "      <td>0.0</td>\n",
       "      <td>0.0</td>\n",
       "      <td>0.0</td>\n",
       "      <td>0.0</td>\n",
       "      <td>0.0</td>\n",
       "      <td>0.0</td>\n",
       "      <td>0.0</td>\n",
       "      <td>0.0</td>\n",
       "      <td>0.0</td>\n",
       "    </tr>\n",
       "    <tr>\n",
       "      <th>3</th>\n",
       "      <td>angry</td>\n",
       "      <td>EmotionData/angry/YAF_mill_angry.wav</td>\n",
       "      <td>-18.572832</td>\n",
       "      <td>-21.326271</td>\n",
       "      <td>-32.238346</td>\n",
       "      <td>-32.486889</td>\n",
       "      <td>-33.819736</td>\n",
       "      <td>-32.078598</td>\n",
       "      <td>-33.938786</td>\n",
       "      <td>-33.208843</td>\n",
       "      <td>...</td>\n",
       "      <td>0.0</td>\n",
       "      <td>0.0</td>\n",
       "      <td>0.0</td>\n",
       "      <td>0.0</td>\n",
       "      <td>0.0</td>\n",
       "      <td>0.0</td>\n",
       "      <td>0.0</td>\n",
       "      <td>0.0</td>\n",
       "      <td>0.0</td>\n",
       "      <td>0.0</td>\n",
       "    </tr>\n",
       "    <tr>\n",
       "      <th>4</th>\n",
       "      <td>angry</td>\n",
       "      <td>EmotionData/angry/YAF_mob_angry.wav</td>\n",
       "      <td>-17.094830</td>\n",
       "      <td>-22.037523</td>\n",
       "      <td>-30.141798</td>\n",
       "      <td>-29.664394</td>\n",
       "      <td>-29.753771</td>\n",
       "      <td>-28.951977</td>\n",
       "      <td>-30.156403</td>\n",
       "      <td>-30.986080</td>\n",
       "      <td>...</td>\n",
       "      <td>0.0</td>\n",
       "      <td>0.0</td>\n",
       "      <td>0.0</td>\n",
       "      <td>0.0</td>\n",
       "      <td>0.0</td>\n",
       "      <td>0.0</td>\n",
       "      <td>0.0</td>\n",
       "      <td>0.0</td>\n",
       "      <td>0.0</td>\n",
       "      <td>0.0</td>\n",
       "    </tr>\n",
       "  </tbody>\n",
       "</table>\n",
       "<p>5 rows × 180 columns</p>\n",
       "</div>"
      ],
      "text/plain": [
       "  labels                                   path          0          1  \\\n",
       "0  angry  EmotionData/angry/YAF_merge_angry.wav -11.359674 -15.395371   \n",
       "1  angry   EmotionData/angry/YAF_mess_angry.wav -13.067144 -16.793358   \n",
       "2  angry    EmotionData/angry/YAF_met_angry.wav -11.388997 -16.449421   \n",
       "3  angry   EmotionData/angry/YAF_mill_angry.wav -18.572832 -21.326271   \n",
       "4  angry    EmotionData/angry/YAF_mob_angry.wav -17.094830 -22.037523   \n",
       "\n",
       "           2          3          4          5          6          7  ...  168  \\\n",
       "0 -32.029984 -31.560892 -31.822456 -32.856197 -32.751453 -31.604750  ...  0.0   \n",
       "1 -30.724489 -30.432323 -29.272457 -29.151882 -29.921780 -27.839539  ...  0.0   \n",
       "2 -23.305714 -23.869122 -24.846775 -25.317547 -26.140451 -28.348970  ...  0.0   \n",
       "3 -32.238346 -32.486889 -33.819736 -32.078598 -33.938786 -33.208843  ...  0.0   \n",
       "4 -30.141798 -29.664394 -29.753771 -28.951977 -30.156403 -30.986080  ...  0.0   \n",
       "\n",
       "   169  170  171  172  173  174  175  176  177  \n",
       "0  0.0  0.0  0.0  0.0  0.0  0.0  0.0  0.0  0.0  \n",
       "1  0.0  0.0  0.0  0.0  0.0  0.0  0.0  0.0  0.0  \n",
       "2  0.0  0.0  0.0  0.0  0.0  0.0  0.0  0.0  0.0  \n",
       "3  0.0  0.0  0.0  0.0  0.0  0.0  0.0  0.0  0.0  \n",
       "4  0.0  0.0  0.0  0.0  0.0  0.0  0.0  0.0  0.0  \n",
       "\n",
       "[5 rows x 180 columns]"
      ]
     },
     "execution_count": 113,
     "metadata": {},
     "output_type": "execute_result"
    }
   ],
   "source": [
    "#make individual dataframes for each feature\n",
    "df_MFCC = pd.concat([TESS_df,pd.DataFrame(df['MFCC'].values.tolist())],axis=1)\n",
    "df_ZCR = pd.concat([TESS_df,pd.DataFrame(df['ZCR'].tolist())],axis=1)\n",
    "df_CHROMA = pd.concat([TESS_df,pd.DataFrame(df['CHROMA'].values.tolist())],axis=1)\n",
    "\n",
    "#fill NA with 0's\n",
    "df_MFCC = df_MFCC.fillna(0)\n",
    "df_ZCR = df_ZCR.fillna(0)\n",
    "df_CHROMA = df_CHROMA.fillna(0)\n",
    "\n",
    "df_MFCC.head()"
   ]
  },
  {
   "cell_type": "code",
   "execution_count": 122,
   "id": "6deae278",
   "metadata": {},
   "outputs": [],
   "source": [
    "# Split between train and test \n",
    "X_trainMFCC, X_testMFCC, y_trainMFCC, y_testMFCC = train_test_split(df_MFCC.drop(['path','labels'],axis=1)\n",
    "                                                    , df_MFCC.labels\n",
    "                                                    , test_size=0.3\n",
    "                                                    , shuffle=True\n",
    "                                                    , random_state=42\n",
    "                                                   )\n",
    "\n",
    "X_trainZCR, X_testZCR, y_trainZCR, y_testZCR = train_test_split(df_ZCR.drop(['path','labels'],axis=1)\n",
    "                                                    , df_ZCR.labels\n",
    "                                                    , test_size=0.3\n",
    "                                                    , shuffle=True\n",
    "                                                    , random_state=42\n",
    "                                                   )\n",
    "\n",
    "X_trainCHROMA, X_testCHROMA, y_trainCHROMA, y_testCHROMA = train_test_split(df_CHROMA.drop(['path','labels'],axis=1)\n",
    "                                                    , df_CHROMA.labels\n",
    "                                                    , test_size=0.3\n",
    "                                                    , shuffle=True\n",
    "                                                    , random_state=42\n",
    "                                                   )"
   ]
  },
  {
   "cell_type": "code",
   "execution_count": 123,
   "id": "338b17a4",
   "metadata": {},
   "outputs": [],
   "source": [
    "#MFCC\n",
    "mean = np.mean(X_trainMFCC, axis=0)\n",
    "std = np.std(X_trainMFCC, axis=0)\n",
    "\n",
    "X_trainMFCC = (X_trainMFCC - mean)/std\n",
    "X_testMFCC = (X_testMFCC - mean)/std\n",
    "\n",
    "#ZCR\n",
    "mean = np.mean(X_trainZCR, axis=0)\n",
    "std = np.std(X_trainZCR, axis=0)\n",
    "\n",
    "X_trainZCR = (X_trainZCR - mean)/std\n",
    "X_testZCR = (X_testZCR - mean)/std\n",
    "\n",
    "#CHROMA\n",
    "mean = np.mean(X_trainCHROMA, axis=0)\n",
    "std = np.std(X_trainCHROMA, axis=0)\n",
    "\n",
    "X_trainCHROMA = (X_trainCHROMA - mean)/std\n",
    "X_testCHROMA = (X_testCHROMA - mean)/std"
   ]
  },
  {
   "cell_type": "code",
   "execution_count": 127,
   "id": "0d545f35",
   "metadata": {},
   "outputs": [
    {
     "data": {
      "text/html": [
       "<style>#sk-container-id-2 {color: black;background-color: white;}#sk-container-id-2 pre{padding: 0;}#sk-container-id-2 div.sk-toggleable {background-color: white;}#sk-container-id-2 label.sk-toggleable__label {cursor: pointer;display: block;width: 100%;margin-bottom: 0;padding: 0.3em;box-sizing: border-box;text-align: center;}#sk-container-id-2 label.sk-toggleable__label-arrow:before {content: \"▸\";float: left;margin-right: 0.25em;color: #696969;}#sk-container-id-2 label.sk-toggleable__label-arrow:hover:before {color: black;}#sk-container-id-2 div.sk-estimator:hover label.sk-toggleable__label-arrow:before {color: black;}#sk-container-id-2 div.sk-toggleable__content {max-height: 0;max-width: 0;overflow: hidden;text-align: left;background-color: #f0f8ff;}#sk-container-id-2 div.sk-toggleable__content pre {margin: 0.2em;color: black;border-radius: 0.25em;background-color: #f0f8ff;}#sk-container-id-2 input.sk-toggleable__control:checked~div.sk-toggleable__content {max-height: 200px;max-width: 100%;overflow: auto;}#sk-container-id-2 input.sk-toggleable__control:checked~label.sk-toggleable__label-arrow:before {content: \"▾\";}#sk-container-id-2 div.sk-estimator input.sk-toggleable__control:checked~label.sk-toggleable__label {background-color: #d4ebff;}#sk-container-id-2 div.sk-label input.sk-toggleable__control:checked~label.sk-toggleable__label {background-color: #d4ebff;}#sk-container-id-2 input.sk-hidden--visually {border: 0;clip: rect(1px 1px 1px 1px);clip: rect(1px, 1px, 1px, 1px);height: 1px;margin: -1px;overflow: hidden;padding: 0;position: absolute;width: 1px;}#sk-container-id-2 div.sk-estimator {font-family: monospace;background-color: #f0f8ff;border: 1px dotted black;border-radius: 0.25em;box-sizing: border-box;margin-bottom: 0.5em;}#sk-container-id-2 div.sk-estimator:hover {background-color: #d4ebff;}#sk-container-id-2 div.sk-parallel-item::after {content: \"\";width: 100%;border-bottom: 1px solid gray;flex-grow: 1;}#sk-container-id-2 div.sk-label:hover label.sk-toggleable__label {background-color: #d4ebff;}#sk-container-id-2 div.sk-serial::before {content: \"\";position: absolute;border-left: 1px solid gray;box-sizing: border-box;top: 0;bottom: 0;left: 50%;z-index: 0;}#sk-container-id-2 div.sk-serial {display: flex;flex-direction: column;align-items: center;background-color: white;padding-right: 0.2em;padding-left: 0.2em;position: relative;}#sk-container-id-2 div.sk-item {position: relative;z-index: 1;}#sk-container-id-2 div.sk-parallel {display: flex;align-items: stretch;justify-content: center;background-color: white;position: relative;}#sk-container-id-2 div.sk-item::before, #sk-container-id-2 div.sk-parallel-item::before {content: \"\";position: absolute;border-left: 1px solid gray;box-sizing: border-box;top: 0;bottom: 0;left: 50%;z-index: -1;}#sk-container-id-2 div.sk-parallel-item {display: flex;flex-direction: column;z-index: 1;position: relative;background-color: white;}#sk-container-id-2 div.sk-parallel-item:first-child::after {align-self: flex-end;width: 50%;}#sk-container-id-2 div.sk-parallel-item:last-child::after {align-self: flex-start;width: 50%;}#sk-container-id-2 div.sk-parallel-item:only-child::after {width: 0;}#sk-container-id-2 div.sk-dashed-wrapped {border: 1px dashed gray;margin: 0 0.4em 0.5em 0.4em;box-sizing: border-box;padding-bottom: 0.4em;background-color: white;}#sk-container-id-2 div.sk-label label {font-family: monospace;font-weight: bold;display: inline-block;line-height: 1.2em;}#sk-container-id-2 div.sk-label-container {text-align: center;}#sk-container-id-2 div.sk-container {/* jupyter's `normalize.less` sets `[hidden] { display: none; }` but bootstrap.min.css set `[hidden] { display: none !important; }` so we also need the `!important` here to be able to override the default hidden behavior on the sphinx rendered scikit-learn.org. See: https://github.com/scikit-learn/scikit-learn/issues/21755 */display: inline-block !important;position: relative;}#sk-container-id-2 div.sk-text-repr-fallback {display: none;}</style><div id=\"sk-container-id-2\" class=\"sk-top-container\"><div class=\"sk-text-repr-fallback\"><pre>LabelEncoder()</pre><b>In a Jupyter environment, please rerun this cell to show the HTML representation or trust the notebook. <br />On GitHub, the HTML representation is unable to render, please try loading this page with nbviewer.org.</b></div><div class=\"sk-container\" hidden><div class=\"sk-item\"><div class=\"sk-estimator sk-toggleable\"><input class=\"sk-toggleable__control sk-hidden--visually\" id=\"sk-estimator-id-2\" type=\"checkbox\" checked><label for=\"sk-estimator-id-2\" class=\"sk-toggleable__label sk-toggleable__label-arrow\">LabelEncoder</label><div class=\"sk-toggleable__content\"><pre>LabelEncoder()</pre></div></div></div></div></div>"
      ],
      "text/plain": [
       "LabelEncoder()"
      ]
     },
     "execution_count": 127,
     "metadata": {},
     "output_type": "execute_result"
    }
   ],
   "source": [
    "from sklearn import preprocessing\n",
    "le = preprocessing.LabelEncoder()\n",
    "le.fit(TESS_df.labels)"
   ]
  },
  {
   "cell_type": "code",
   "execution_count": 134,
   "id": "7761f289",
   "metadata": {},
   "outputs": [
    {
     "data": {
      "text/html": [
       "<style>#sk-container-id-5 {color: black;background-color: white;}#sk-container-id-5 pre{padding: 0;}#sk-container-id-5 div.sk-toggleable {background-color: white;}#sk-container-id-5 label.sk-toggleable__label {cursor: pointer;display: block;width: 100%;margin-bottom: 0;padding: 0.3em;box-sizing: border-box;text-align: center;}#sk-container-id-5 label.sk-toggleable__label-arrow:before {content: \"▸\";float: left;margin-right: 0.25em;color: #696969;}#sk-container-id-5 label.sk-toggleable__label-arrow:hover:before {color: black;}#sk-container-id-5 div.sk-estimator:hover label.sk-toggleable__label-arrow:before {color: black;}#sk-container-id-5 div.sk-toggleable__content {max-height: 0;max-width: 0;overflow: hidden;text-align: left;background-color: #f0f8ff;}#sk-container-id-5 div.sk-toggleable__content pre {margin: 0.2em;color: black;border-radius: 0.25em;background-color: #f0f8ff;}#sk-container-id-5 input.sk-toggleable__control:checked~div.sk-toggleable__content {max-height: 200px;max-width: 100%;overflow: auto;}#sk-container-id-5 input.sk-toggleable__control:checked~label.sk-toggleable__label-arrow:before {content: \"▾\";}#sk-container-id-5 div.sk-estimator input.sk-toggleable__control:checked~label.sk-toggleable__label {background-color: #d4ebff;}#sk-container-id-5 div.sk-label input.sk-toggleable__control:checked~label.sk-toggleable__label {background-color: #d4ebff;}#sk-container-id-5 input.sk-hidden--visually {border: 0;clip: rect(1px 1px 1px 1px);clip: rect(1px, 1px, 1px, 1px);height: 1px;margin: -1px;overflow: hidden;padding: 0;position: absolute;width: 1px;}#sk-container-id-5 div.sk-estimator {font-family: monospace;background-color: #f0f8ff;border: 1px dotted black;border-radius: 0.25em;box-sizing: border-box;margin-bottom: 0.5em;}#sk-container-id-5 div.sk-estimator:hover {background-color: #d4ebff;}#sk-container-id-5 div.sk-parallel-item::after {content: \"\";width: 100%;border-bottom: 1px solid gray;flex-grow: 1;}#sk-container-id-5 div.sk-label:hover label.sk-toggleable__label {background-color: #d4ebff;}#sk-container-id-5 div.sk-serial::before {content: \"\";position: absolute;border-left: 1px solid gray;box-sizing: border-box;top: 0;bottom: 0;left: 50%;z-index: 0;}#sk-container-id-5 div.sk-serial {display: flex;flex-direction: column;align-items: center;background-color: white;padding-right: 0.2em;padding-left: 0.2em;position: relative;}#sk-container-id-5 div.sk-item {position: relative;z-index: 1;}#sk-container-id-5 div.sk-parallel {display: flex;align-items: stretch;justify-content: center;background-color: white;position: relative;}#sk-container-id-5 div.sk-item::before, #sk-container-id-5 div.sk-parallel-item::before {content: \"\";position: absolute;border-left: 1px solid gray;box-sizing: border-box;top: 0;bottom: 0;left: 50%;z-index: -1;}#sk-container-id-5 div.sk-parallel-item {display: flex;flex-direction: column;z-index: 1;position: relative;background-color: white;}#sk-container-id-5 div.sk-parallel-item:first-child::after {align-self: flex-end;width: 50%;}#sk-container-id-5 div.sk-parallel-item:last-child::after {align-self: flex-start;width: 50%;}#sk-container-id-5 div.sk-parallel-item:only-child::after {width: 0;}#sk-container-id-5 div.sk-dashed-wrapped {border: 1px dashed gray;margin: 0 0.4em 0.5em 0.4em;box-sizing: border-box;padding-bottom: 0.4em;background-color: white;}#sk-container-id-5 div.sk-label label {font-family: monospace;font-weight: bold;display: inline-block;line-height: 1.2em;}#sk-container-id-5 div.sk-label-container {text-align: center;}#sk-container-id-5 div.sk-container {/* jupyter's `normalize.less` sets `[hidden] { display: none; }` but bootstrap.min.css set `[hidden] { display: none !important; }` so we also need the `!important` here to be able to override the default hidden behavior on the sphinx rendered scikit-learn.org. See: https://github.com/scikit-learn/scikit-learn/issues/21755 */display: inline-block !important;position: relative;}#sk-container-id-5 div.sk-text-repr-fallback {display: none;}</style><div id=\"sk-container-id-5\" class=\"sk-top-container\"><div class=\"sk-text-repr-fallback\"><pre>RandomForestClassifier(random_state=44)</pre><b>In a Jupyter environment, please rerun this cell to show the HTML representation or trust the notebook. <br />On GitHub, the HTML representation is unable to render, please try loading this page with nbviewer.org.</b></div><div class=\"sk-container\" hidden><div class=\"sk-item\"><div class=\"sk-estimator sk-toggleable\"><input class=\"sk-toggleable__control sk-hidden--visually\" id=\"sk-estimator-id-5\" type=\"checkbox\" checked><label for=\"sk-estimator-id-5\" class=\"sk-toggleable__label sk-toggleable__label-arrow\">RandomForestClassifier</label><div class=\"sk-toggleable__content\"><pre>RandomForestClassifier(random_state=44)</pre></div></div></div></div></div>"
      ],
      "text/plain": [
       "RandomForestClassifier(random_state=44)"
      ]
     },
     "execution_count": 134,
     "metadata": {},
     "output_type": "execute_result"
    }
   ],
   "source": [
    "#Lets create complete predictions from a Random Forest\n",
    "from sklearn.ensemble import RandomForestClassifier\n",
    "\n",
    "rf_MFCC = RandomForestClassifier(n_estimators=100, random_state=44)\n",
    "rf_MFCC.fit(X_trainMFCC, y_trainMFCC)\n",
    "\n",
    "rf_ZCR = RandomForestClassifier(n_estimators=100, random_state=44)\n",
    "rf_ZCR.fit(X_trainZCR, y_trainZCR)\n",
    "\n",
    "rf_CHROMA = RandomForestClassifier(n_estimators=100, random_state=44)\n",
    "rf_CHROMA.fit(X_trainCHROMA, y_trainCHROMA)\n",
    "\n"
   ]
  },
  {
   "cell_type": "code",
   "execution_count": 150,
   "id": "9156dce6",
   "metadata": {},
   "outputs": [
    {
     "name": "stdout",
     "output_type": "stream",
     "text": [
      "MFCC accuracy: \n",
      "0.9333333333333333\n",
      "\n",
      "ZCR accuracy: \n",
      "0.9416666666666667\n",
      "\n",
      "CHROMA accuracy:\n",
      "0.925\n"
     ]
    }
   ],
   "source": [
    "print(\"MFCC accuracy: \")\n",
    "print(rf_MFCC.score(X_testMFCC, y_testMFCC))\n",
    "rf_predMCFF = rf_MFCC.predict(X_testMFCC)\n",
    "\n",
    "print(\"\\nZCR accuracy: \")\n",
    "print(rf_ZCR.score(X_testZCR, y_testZCR))\n",
    "rf_predZCR = rf_ZCR.predict(X_testZCR)\n",
    "\n",
    "print(\"\\nCHROMA accuracy:\")\n",
    "print(rf_CHROMA.score(X_testCHROMA, y_testCHROMA))\n",
    "rf_predCHROMA = rf_CHROMA.predict(X_testCHROMA)"
   ]
  },
  {
   "cell_type": "code",
   "execution_count": 151,
   "id": "29ee73b7",
   "metadata": {},
   "outputs": [
    {
     "name": "stdout",
     "output_type": "stream",
     "text": [
      "              precision    recall  f1-score   support\n",
      "\n",
      "       angry       0.97      0.86      0.91        37\n",
      "        fear       0.96      0.96      0.96        25\n",
      "       happy       0.82      0.93      0.87        30\n",
      "         sad       0.96      0.96      0.96        28\n",
      "\n",
      "    accuracy                           0.93       120\n",
      "   macro avg       0.93      0.93      0.93       120\n",
      "weighted avg       0.93      0.93      0.93       120\n",
      "\n"
     ]
    }
   ],
   "source": [
    "from sklearn.metrics import classification_report\n",
    "from sklearn.metrics import confusion_matrix, ConfusionMatrixDisplay\n",
    "\n",
    "print(classification_report(y_testCHROMA, rf_predCHROMA))"
   ]
  },
  {
   "cell_type": "code",
   "execution_count": 157,
   "id": "36c133ca",
   "metadata": {},
   "outputs": [
    {
     "data": {
      "image/png": "[encoded data removed]",
      "text/plain": [
       "<Figure size 640x480 with 2 Axes>"
      ]
     },
     "metadata": {},
     "output_type": "display_data"
    }
   ],
   "source": [
    "#cm = confusion_matrix(y_testCHROMA, y_pred, labels= TESS_df.labels)\n",
    "ConfusionMatrixDisplay.from_predictions(y_testCHROMA, rf_predCHROMA)\n",
    "\n",
    "plt.show()"
   ]
  },
  {
   "cell_type": "code",
   "execution_count": 154,
   "id": "8c0947fe",
   "metadata": {},
   "outputs": [
    {
     "data": {
      "text/html": [
       "<style>#sk-container-id-7 {color: black;background-color: white;}#sk-container-id-7 pre{padding: 0;}#sk-container-id-7 div.sk-toggleable {background-color: white;}#sk-container-id-7 label.sk-toggleable__label {cursor: pointer;display: block;width: 100%;margin-bottom: 0;padding: 0.3em;box-sizing: border-box;text-align: center;}#sk-container-id-7 label.sk-toggleable__label-arrow:before {content: \"▸\";float: left;margin-right: 0.25em;color: #696969;}#sk-container-id-7 label.sk-toggleable__label-arrow:hover:before {color: black;}#sk-container-id-7 div.sk-estimator:hover label.sk-toggleable__label-arrow:before {color: black;}#sk-container-id-7 div.sk-toggleable__content {max-height: 0;max-width: 0;overflow: hidden;text-align: left;background-color: #f0f8ff;}#sk-container-id-7 div.sk-toggleable__content pre {margin: 0.2em;color: black;border-radius: 0.25em;background-color: #f0f8ff;}#sk-container-id-7 input.sk-toggleable__control:checked~div.sk-toggleable__content {max-height: 200px;max-width: 100%;overflow: auto;}#sk-container-id-7 input.sk-toggleable__control:checked~label.sk-toggleable__label-arrow:before {content: \"▾\";}#sk-container-id-7 div.sk-estimator input.sk-toggleable__control:checked~label.sk-toggleable__label {background-color: #d4ebff;}#sk-container-id-7 div.sk-label input.sk-toggleable__control:checked~label.sk-toggleable__label {background-color: #d4ebff;}#sk-container-id-7 input.sk-hidden--visually {border: 0;clip: rect(1px 1px 1px 1px);clip: rect(1px, 1px, 1px, 1px);height: 1px;margin: -1px;overflow: hidden;padding: 0;position: absolute;width: 1px;}#sk-container-id-7 div.sk-estimator {font-family: monospace;background-color: #f0f8ff;border: 1px dotted black;border-radius: 0.25em;box-sizing: border-box;margin-bottom: 0.5em;}#sk-container-id-7 div.sk-estimator:hover {background-color: #d4ebff;}#sk-container-id-7 div.sk-parallel-item::after {content: \"\";width: 100%;border-bottom: 1px solid gray;flex-grow: 1;}#sk-container-id-7 div.sk-label:hover label.sk-toggleable__label {background-color: #d4ebff;}#sk-container-id-7 div.sk-serial::before {content: \"\";position: absolute;border-left: 1px solid gray;box-sizing: border-box;top: 0;bottom: 0;left: 50%;z-index: 0;}#sk-container-id-7 div.sk-serial {display: flex;flex-direction: column;align-items: center;background-color: white;padding-right: 0.2em;padding-left: 0.2em;position: relative;}#sk-container-id-7 div.sk-item {position: relative;z-index: 1;}#sk-container-id-7 div.sk-parallel {display: flex;align-items: stretch;justify-content: center;background-color: white;position: relative;}#sk-container-id-7 div.sk-item::before, #sk-container-id-7 div.sk-parallel-item::before {content: \"\";position: absolute;border-left: 1px solid gray;box-sizing: border-box;top: 0;bottom: 0;left: 50%;z-index: -1;}#sk-container-id-7 div.sk-parallel-item {display: flex;flex-direction: column;z-index: 1;position: relative;background-color: white;}#sk-container-id-7 div.sk-parallel-item:first-child::after {align-self: flex-end;width: 50%;}#sk-container-id-7 div.sk-parallel-item:last-child::after {align-self: flex-start;width: 50%;}#sk-container-id-7 div.sk-parallel-item:only-child::after {width: 0;}#sk-container-id-7 div.sk-dashed-wrapped {border: 1px dashed gray;margin: 0 0.4em 0.5em 0.4em;box-sizing: border-box;padding-bottom: 0.4em;background-color: white;}#sk-container-id-7 div.sk-label label {font-family: monospace;font-weight: bold;display: inline-block;line-height: 1.2em;}#sk-container-id-7 div.sk-label-container {text-align: center;}#sk-container-id-7 div.sk-container {/* jupyter's `normalize.less` sets `[hidden] { display: none; }` but bootstrap.min.css set `[hidden] { display: none !important; }` so we also need the `!important` here to be able to override the default hidden behavior on the sphinx rendered scikit-learn.org. See: https://github.com/scikit-learn/scikit-learn/issues/21755 */display: inline-block !important;position: relative;}#sk-container-id-7 div.sk-text-repr-fallback {display: none;}</style><div id=\"sk-container-id-7\" class=\"sk-top-container\"><div class=\"sk-text-repr-fallback\"><pre>GaussianNB()</pre><b>In a Jupyter environment, please rerun this cell to show the HTML representation or trust the notebook. <br />On GitHub, the HTML representation is unable to render, please try loading this page with nbviewer.org.</b></div><div class=\"sk-container\" hidden><div class=\"sk-item\"><div class=\"sk-estimator sk-toggleable\"><input class=\"sk-toggleable__control sk-hidden--visually\" id=\"sk-estimator-id-7\" type=\"checkbox\" checked><label for=\"sk-estimator-id-7\" class=\"sk-toggleable__label sk-toggleable__label-arrow\">GaussianNB</label><div class=\"sk-toggleable__content\"><pre>GaussianNB()</pre></div></div></div></div></div>"
      ],
      "text/plain": [
       "GaussianNB()"
      ]
     },
     "execution_count": 154,
     "metadata": {},
     "output_type": "execute_result"
    }
   ],
   "source": [
    "from sklearn.naive_bayes import GaussianNB\n",
    "\n",
    "GNB_MFCC = GaussianNB()\n",
    "GNB_MFCC.fit(X_trainMFCC, y_trainMFCC)\n",
    "\n",
    "GNB_ZCR = GaussianNB()\n",
    "GNB_ZCR.fit(X_trainZCR, y_trainZCR)\n",
    "\n",
    "GNB_CHROMA = GaussianNB()\n",
    "GNB_CHROMA.fit(X_trainCHROMA, y_trainCHROMA)"
   ]
  },
  {
   "cell_type": "code",
   "execution_count": 155,
   "id": "a5fb3227",
   "metadata": {},
   "outputs": [
    {
     "name": "stdout",
     "output_type": "stream",
     "text": [
      "MFCC accuracy: \n",
      "0.6666666666666666\n",
      "\n",
      "ZCR accuracy: \n",
      "0.725\n",
      "\n",
      "CHROMA accuracy:\n",
      "0.5166666666666667\n"
     ]
    }
   ],
   "source": [
    "print(\"MFCC accuracy: \")\n",
    "print(GNB_MFCC.score(X_testMFCC, y_testMFCC))\n",
    "GNB_predMCFF = GNB_MFCC.predict(X_testMFCC)\n",
    "\n",
    "print(\"\\nZCR accuracy: \")\n",
    "print(GNB_ZCR.score(X_testZCR, y_testZCR))\n",
    "GNB_predZCR = GNB_ZCR.predict(X_testZCR)\n",
    "\n",
    "print(\"\\nCHROMA accuracy:\")\n",
    "print(GNB_CHROMA.score(X_testCHROMA, y_testCHROMA))\n",
    "GNB_predCHROMA = GNB_CHROMA.predict(X_testCHROMA)"
   ]
  },
  {
   "cell_type": "code",
   "execution_count": 156,
   "id": "ddba6e3f",
   "metadata": {},
   "outputs": [
    {
     "name": "stdout",
     "output_type": "stream",
     "text": [
      "              precision    recall  f1-score   support\n",
      "\n",
      "       angry       0.43      0.41      0.42        37\n",
      "        fear       0.53      1.00      0.69        25\n",
      "       happy       0.45      0.43      0.44        30\n",
      "         sad       1.00      0.32      0.49        28\n",
      "\n",
      "    accuracy                           0.52       120\n",
      "   macro avg       0.60      0.54      0.51       120\n",
      "weighted avg       0.59      0.52      0.50       120\n",
      "\n"
     ]
    }
   ],
   "source": [
    "print(classification_report(y_testCHROMA, GNB_predCHROMA))"
   ]
  },
  {
   "cell_type": "code",
   "execution_count": 158,
   "id": "1f068ea1",
   "metadata": {},
   "outputs": [
    {
     "data": {
      "image/png": "[encoded data removed]",
      "text/plain": [
       "<Figure size 640x480 with 2 Axes>"
      ]
     },
     "metadata": {},
     "output_type": "display_data"
    }
   ],
   "source": [
    "ConfusionMatrixDisplay.from_predictions(y_testCHROMA, GNB_predCHROMA)\n",
    "\n",
    "plt.show()"
   ]
  },
  {
   "cell_type": "code",
   "execution_count": 163,
   "id": "bfe0f0e6",
   "metadata": {},
   "outputs": [
    {
     "data": {
      "text/html": [
       "<style>#sk-container-id-10 {color: black;background-color: white;}#sk-container-id-10 pre{padding: 0;}#sk-container-id-10 div.sk-toggleable {background-color: white;}#sk-container-id-10 label.sk-toggleable__label {cursor: pointer;display: block;width: 100%;margin-bottom: 0;padding: 0.3em;box-sizing: border-box;text-align: center;}#sk-container-id-10 label.sk-toggleable__label-arrow:before {content: \"▸\";float: left;margin-right: 0.25em;color: #696969;}#sk-container-id-10 label.sk-toggleable__label-arrow:hover:before {color: black;}#sk-container-id-10 div.sk-estimator:hover label.sk-toggleable__label-arrow:before {color: black;}#sk-container-id-10 div.sk-toggleable__content {max-height: 0;max-width: 0;overflow: hidden;text-align: left;background-color: #f0f8ff;}#sk-container-id-10 div.sk-toggleable__content pre {margin: 0.2em;color: black;border-radius: 0.25em;background-color: #f0f8ff;}#sk-container-id-10 input.sk-toggleable__control:checked~div.sk-toggleable__content {max-height: 200px;max-width: 100%;overflow: auto;}#sk-container-id-10 input.sk-toggleable__control:checked~label.sk-toggleable__label-arrow:before {content: \"▾\";}#sk-container-id-10 div.sk-estimator input.sk-toggleable__control:checked~label.sk-toggleable__label {background-color: #d4ebff;}#sk-container-id-10 div.sk-label input.sk-toggleable__control:checked~label.sk-toggleable__label {background-color: #d4ebff;}#sk-container-id-10 input.sk-hidden--visually {border: 0;clip: rect(1px 1px 1px 1px);clip: rect(1px, 1px, 1px, 1px);height: 1px;margin: -1px;overflow: hidden;padding: 0;position: absolute;width: 1px;}#sk-container-id-10 div.sk-estimator {font-family: monospace;background-color: #f0f8ff;border: 1px dotted black;border-radius: 0.25em;box-sizing: border-box;margin-bottom: 0.5em;}#sk-container-id-10 div.sk-estimator:hover {background-color: #d4ebff;}#sk-container-id-10 div.sk-parallel-item::after {content: \"\";width: 100%;border-bottom: 1px solid gray;flex-grow: 1;}#sk-container-id-10 div.sk-label:hover label.sk-toggleable__label {background-color: #d4ebff;}#sk-container-id-10 div.sk-serial::before {content: \"\";position: absolute;border-left: 1px solid gray;box-sizing: border-box;top: 0;bottom: 0;left: 50%;z-index: 0;}#sk-container-id-10 div.sk-serial {display: flex;flex-direction: column;align-items: center;background-color: white;padding-right: 0.2em;padding-left: 0.2em;position: relative;}#sk-container-id-10 div.sk-item {position: relative;z-index: 1;}#sk-container-id-10 div.sk-parallel {display: flex;align-items: stretch;justify-content: center;background-color: white;position: relative;}#sk-container-id-10 div.sk-item::before, #sk-container-id-10 div.sk-parallel-item::before {content: \"\";position: absolute;border-left: 1px solid gray;box-sizing: border-box;top: 0;bottom: 0;left: 50%;z-index: -1;}#sk-container-id-10 div.sk-parallel-item {display: flex;flex-direction: column;z-index: 1;position: relative;background-color: white;}#sk-container-id-10 div.sk-parallel-item:first-child::after {align-self: flex-end;width: 50%;}#sk-container-id-10 div.sk-parallel-item:last-child::after {align-self: flex-start;width: 50%;}#sk-container-id-10 div.sk-parallel-item:only-child::after {width: 0;}#sk-container-id-10 div.sk-dashed-wrapped {border: 1px dashed gray;margin: 0 0.4em 0.5em 0.4em;box-sizing: border-box;padding-bottom: 0.4em;background-color: white;}#sk-container-id-10 div.sk-label label {font-family: monospace;font-weight: bold;display: inline-block;line-height: 1.2em;}#sk-container-id-10 div.sk-label-container {text-align: center;}#sk-container-id-10 div.sk-container {/* jupyter's `normalize.less` sets `[hidden] { display: none; }` but bootstrap.min.css set `[hidden] { display: none !important; }` so we also need the `!important` here to be able to override the default hidden behavior on the sphinx rendered scikit-learn.org. See: https://github.com/scikit-learn/scikit-learn/issues/21755 */display: inline-block !important;position: relative;}#sk-container-id-10 div.sk-text-repr-fallback {display: none;}</style><div id=\"sk-container-id-10\" class=\"sk-top-container\"><div class=\"sk-text-repr-fallback\"><pre>AdaBoostClassifier(n_estimators=150, random_state=68)</pre><b>In a Jupyter environment, please rerun this cell to show the HTML representation or trust the notebook. <br />On GitHub, the HTML representation is unable to render, please try loading this page with nbviewer.org.</b></div><div class=\"sk-container\" hidden><div class=\"sk-item\"><div class=\"sk-estimator sk-toggleable\"><input class=\"sk-toggleable__control sk-hidden--visually\" id=\"sk-estimator-id-10\" type=\"checkbox\" checked><label for=\"sk-estimator-id-10\" class=\"sk-toggleable__label sk-toggleable__label-arrow\">AdaBoostClassifier</label><div class=\"sk-toggleable__content\"><pre>AdaBoostClassifier(n_estimators=150, random_state=68)</pre></div></div></div></div></div>"
      ],
      "text/plain": [
       "AdaBoostClassifier(n_estimators=150, random_state=68)"
      ]
     },
     "execution_count": 163,
     "metadata": {},
     "output_type": "execute_result"
    }
   ],
   "source": [
    "from sklearn.ensemble import AdaBoostClassifier\n",
    "\n",
    "ABC_MFCC = AdaBoostClassifier(n_estimators = 150, random_state = 68)\n",
    "ABC_MFCC.fit(X_trainMFCC, y_trainMFCC)\n",
    "\n",
    "ABC_ZCR = AdaBoostClassifier(n_estimators = 150, random_state = 68)\n",
    "ABC_ZCR.fit(X_trainZCR, y_trainZCR)\n",
    "\n",
    "ABC_CHROMA = AdaBoostClassifier(n_estimators = 150, random_state = 68)\n",
    "ABC_CHROMA.fit(X_trainCHROMA, y_trainCHROMA)"
   ]
  },
  {
   "cell_type": "code",
   "execution_count": 164,
   "id": "86f339d9",
   "metadata": {},
   "outputs": [
    {
     "name": "stdout",
     "output_type": "stream",
     "text": [
      "MFCC accuracy: \n",
      "0.38333333333333336\n",
      "\n",
      "ZCR accuracy: \n",
      "0.39166666666666666\n",
      "\n",
      "CHROMA accuracy:\n",
      "0.475\n"
     ]
    }
   ],
   "source": [
    "print(\"MFCC accuracy: \")\n",
    "print(ABC_MFCC.score(X_testMFCC, y_testMFCC))\n",
    "ABC_predMCFF = ABC_MFCC.predict(X_testMFCC)\n",
    "\n",
    "print(\"\\nZCR accuracy: \")\n",
    "print(ABC_ZCR.score(X_testZCR, y_testZCR))\n",
    "ABC_predZCR = ABC_ZCR.predict(X_testZCR)\n",
    "\n",
    "print(\"\\nCHROMA accuracy:\")\n",
    "print(ABC_CHROMA.score(X_testCHROMA, y_testCHROMA))\n",
    "ABC_predCHROMA = ABC_CHROMA.predict(X_testCHROMA)"
   ]
  },
  {
   "cell_type": "code",
   "execution_count": 166,
   "id": "ac435f59",
   "metadata": {},
   "outputs": [
    {
     "name": "stdout",
     "output_type": "stream",
     "text": [
      "              precision    recall  f1-score   support\n",
      "\n",
      "       angry       0.00      0.00      0.00        37\n",
      "        fear       0.80      0.48      0.60        25\n",
      "       happy       0.41      0.57      0.48        30\n",
      "         sad       0.44      1.00      0.61        28\n",
      "\n",
      "    accuracy                           0.48       120\n",
      "   macro avg       0.41      0.51      0.42       120\n",
      "weighted avg       0.37      0.47      0.39       120\n",
      "\n"
     ]
    },
    {
     "name": "stderr",
     "output_type": "stream",
     "text": [
      "C:\\Users\\Gabriel\\anaconda3\\envs\\MM\\lib\\site-packages\\sklearn\\metrics\\_classification.py:1344: UndefinedMetricWarning: Precision and F-score are ill-defined and being set to 0.0 in labels with no predicted samples. Use `zero_division` parameter to control this behavior.\n",
      "  _warn_prf(average, modifier, msg_start, len(result))\n",
      "C:\\Users\\Gabriel\\anaconda3\\envs\\MM\\lib\\site-packages\\sklearn\\metrics\\_classification.py:1344: UndefinedMetricWarning: Precision and F-score are ill-defined and being set to 0.0 in labels with no predicted samples. Use `zero_division` parameter to control this behavior.\n",
      "  _warn_prf(average, modifier, msg_start, len(result))\n",
      "C:\\Users\\Gabriel\\anaconda3\\envs\\MM\\lib\\site-packages\\sklearn\\metrics\\_classification.py:1344: UndefinedMetricWarning: Precision and F-score are ill-defined and being set to 0.0 in labels with no predicted samples. Use `zero_division` parameter to control this behavior.\n",
      "  _warn_prf(average, modifier, msg_start, len(result))\n"
     ]
    }
   ],
   "source": [
    "print(classification_report(y_testCHROMA, ABC_predCHROMA))"
   ]
  },
  {
   "cell_type": "code",
   "execution_count": 165,
   "id": "f8e2d06b",
   "metadata": {},
   "outputs": [
    {
     "data": {
      "image/png": "[encoded data removed]",
      "text/plain": [
       "<Figure size 640x480 with 2 Axes>"
      ]
     },
     "metadata": {},
     "output_type": "display_data"
    }
   ],
   "source": [
    "ConfusionMatrixDisplay.from_predictions(y_testCHROMA, ABC_predCHROMA)\n",
    "\n",
    "plt.show()"
   ]
  },
  {
   "cell_type": "code",
   "execution_count": null,
   "id": "03fc7650",
   "metadata": {},
   "outputs": [],
   "source": []
  }
 ],
 "metadata": {
  "kernelspec": {
   "display_name": "Python 3 (ipykernel)",
   "language": "python",
   "name": "python3"
  },
  "language_info": {
   "codemirror_mode": {
    "name": "ipython",
    "version": 3
   },
   "file_extension": ".py",
   "mimetype": "text/x-python",
   "name": "python",
   "nbconvert_exporter": "python",
   "pygments_lexer": "ipython3",
   "version": "3.10.9"
  }
 },
 "nbformat": 4,
 "nbformat_minor": 5
}
