{
 "cells": [
  {
   "cell_type": "code",
   "execution_count": 1,
   "id": "27e03476",
   "metadata": {},
   "outputs": [
    {
     "name": "stderr",
     "output_type": "stream",
     "text": [
      "[nltk_data] Downloading package stopwords to\n",
      "[nltk_data]     C:\\Users\\Gabriel\\AppData\\Roaming\\nltk_data...\n",
      "[nltk_data]   Package stopwords is already up-to-date!\n",
      "[nltk_data] Downloading package wordnet to\n",
      "[nltk_data]     C:\\Users\\Gabriel\\AppData\\Roaming\\nltk_data...\n",
      "[nltk_data]   Package wordnet is already up-to-date!\n"
     ]
    }
   ],
   "source": [
    "import re\n",
    "import pandas as pd\n",
    "import nltk\n",
    "nltk.download('stopwords')\n",
    "nltk.download('wordnet')\n",
    "from nltk.corpus import stopwords\n",
    "import numpy as np\n",
    "import tensorflow as tf\n",
    "\n",
    "from nltk.stem import WordNetLemmatizer\n",
    "wordnet_lemmatizer = WordNetLemmatizer()\n",
    "\n",
    "train = pd.read_csv(\"train.csv\")\n",
    "test = pd.read_csv(\"test.csv\")"
   ]
  },
  {
   "cell_type": "code",
   "execution_count": 2,
   "id": "c3928df4",
   "metadata": {},
   "outputs": [
    {
     "name": "stderr",
     "output_type": "stream",
     "text": [
      "C:\\Users\\Gabriel\\AppData\\Local\\Temp\\ipykernel_17272\\2729641344.py:2: FutureWarning: The default value of regex will change from True to False in a future version.\n",
      "  train['Text'] = train['Text'].str.replace('[^\\w\\s]', '')\n",
      "C:\\Users\\Gabriel\\AppData\\Local\\Temp\\ipykernel_17272\\2729641344.py:3: FutureWarning: The default value of regex will change from True to False in a future version.\n",
      "  train['Text'] = train['Text'].str.replace('[\\d]', '')\n",
      "C:\\Users\\Gabriel\\AppData\\Local\\Temp\\ipykernel_17272\\2729641344.py:10: FutureWarning: The default value of regex will change from True to False in a future version.\n",
      "  test['Text'] = test['Text'].str.replace('[^\\w\\s]', '')\n",
      "C:\\Users\\Gabriel\\AppData\\Local\\Temp\\ipykernel_17272\\2729641344.py:11: FutureWarning: The default value of regex will change from True to False in a future version.\n",
      "  test['Text'] = test['Text'].str.replace('[\\d]', '')\n"
     ]
    }
   ],
   "source": [
    "train['Text'] = train['Text'].str.lower()\n",
    "train['Text'] = train['Text'].str.replace('[^\\w\\s]', '')\n",
    "train['Text'] = train['Text'].str.replace('[\\d]', '')\n",
    "\n",
    "stop = stopwords.words('english')\n",
    "train['Text'] = train['Text'].apply(lambda x: \" \".join(x for x in x.split() if x not in stop))\n",
    "\n",
    "\n",
    "test['Text'] = test['Text'].str.lower()\n",
    "test['Text'] = test['Text'].str.replace('[^\\w\\s]', '')\n",
    "test['Text'] = test['Text'].str.replace('[\\d]', '')\n",
    "\n",
    "test['Text'] = test['Text'].apply(lambda x: \" \".join(x for x in x.split() if x not in stop))"
   ]
  },
  {
   "cell_type": "code",
   "execution_count": 3,
   "id": "b0eb56dd",
   "metadata": {},
   "outputs": [],
   "source": [
    "def lemmatize(text, stem=False):\n",
    "  # Empty list created to store final tokens\n",
    "  tokens = []\n",
    "  for token in text.split():\n",
    "    # check if the token is a stop word or not\n",
    "    if token not in stop:\n",
    "      if stem:\n",
    "        # Pass to lemmatizer\n",
    "        tokens.append(wordnet_lemmatizer(token))\n",
    "      else:\n",
    "        tokens.append(token)\n",
    "  return \" \".join(tokens)"
   ]
  },
  {
   "cell_type": "code",
   "execution_count": 4,
   "id": "fab5e09b",
   "metadata": {},
   "outputs": [
    {
     "name": "stdout",
     "output_type": "stream",
     "text": [
      "CPU times: total: 17.8 s\n",
      "Wall time: 17.8 s\n"
     ]
    }
   ],
   "source": [
    "%%time\n",
    "train['Text'] = train['Text'].apply(lambda x: lemmatize(x))\n",
    "test['Text'] = test['Text'].apply(lambda x: lemmatize(x))"
   ]
  },
  {
   "cell_type": "code",
   "execution_count": 5,
   "id": "e5ba3caf",
   "metadata": {},
   "outputs": [],
   "source": [
    "from keras.preprocessing.text import Tokenizer\n",
    "tokenizer = Tokenizer()\n",
    "\n",
    "tokenizer.fit_on_texts(train['Text'][:150000])\n",
    "word_index = tokenizer.word_index"
   ]
  },
  {
   "cell_type": "code",
   "execution_count": 6,
   "id": "20077d07",
   "metadata": {},
   "outputs": [
    {
     "name": "stdout",
     "output_type": "stream",
     "text": [
      "Vocabulary Size : 119856\n"
     ]
    }
   ],
   "source": [
    "vocab_size = len(tokenizer.word_index) + 1\n",
    "print(\"Vocabulary Size :\", vocab_size)"
   ]
  },
  {
   "cell_type": "code",
   "execution_count": null,
   "id": "7c353210",
   "metadata": {},
   "outputs": [],
   "source": []
  },
  {
   "cell_type": "code",
   "execution_count": 7,
   "id": "32658477",
   "metadata": {},
   "outputs": [
    {
     "name": "stdout",
     "output_type": "stream",
     "text": [
      "Found 400000 word vectors.\n"
     ]
    }
   ],
   "source": [
    "\n",
    "embeddings_index = {}\n",
    "with open(\"glove.6B.300d.txt\", 'r', encoding='utf-8') as f:\n",
    "    for line in f:\n",
    "        values = line.split()\n",
    "        word = values[0]\n",
    "        vector = np.asarray(values[1:], \"float32\")\n",
    "        embeddings_index[word] = vector\n",
    "f.close()\n",
    "print('Found %s word vectors.' %len(embeddings_index))"
   ]
  },
  {
   "cell_type": "code",
   "execution_count": 8,
   "id": "6e4673c6",
   "metadata": {
    "scrolled": true
   },
   "outputs": [
    {
     "name": "stdout",
     "output_type": "stream",
     "text": [
      "Train Data size: 838860\n",
      "Test Data size: 209715\n"
     ]
    }
   ],
   "source": [
    "from sklearn.model_selection import train_test_split\n",
    "from sklearn.preprocessing import LabelEncoder\n",
    "# Splitting the data into training and testing sets\n",
    "train_data, test_data = train_test_split(train, test_size=0.2,random_state=16)\n",
    "print(\"Train Data size:\", len(train_data))\n",
    "print(\"Test Data size:\", len(test_data))\n",
    "\n",
    "from keras_preprocessing.sequence import pad_sequences\n",
    "# The tokens are converted into sequences and then passed to the pad_sequences() function\n",
    "x_train = pad_sequences(tokenizer.texts_to_sequences(train_data['Text']),maxlen = 30)\n",
    "x_test = pad_sequences(tokenizer.texts_to_sequences(test_data['Text']),maxlen = 30)\n",
    "\n",
    "\n",
    "labels = ['Negative', 'Positive']\n",
    "from sklearn.preprocessing import LabelEncoder\n",
    "encoder = LabelEncoder()\n",
    "encoder.fit(train['Sentiment'].to_list())\n",
    "y_train = encoder.transform(train_data['Sentiment'].to_list())\n",
    "y_test = encoder.transform(test_data['Sentiment'].to_list())\n",
    "y_train = y_train.reshape(-1,1)\n",
    "y_test = y_test.reshape(-1,1)"
   ]
  },
  {
   "cell_type": "code",
   "execution_count": 9,
   "id": "ab27ccc4",
   "metadata": {},
   "outputs": [],
   "source": [
    "# creating an matrix with zeroes of shape vocab x embedding dimension\n",
    "embedding_matrix = np.zeros((vocab_size, 300))\n",
    "# Iterate through word, index in the dictionary\n",
    "for word, i in word_index.items():\n",
    "    # extract the corresponding vector for the vocab indice of same word\n",
    "    embedding_vector = embeddings_index.get(word)\n",
    "    if embedding_vector is not None:\n",
    "        # Storing it in a matrix\n",
    "        embedding_matrix[i] = embedding_vector"
   ]
  },
  {
   "cell_type": "code",
   "execution_count": 10,
   "id": "e7797fb3",
   "metadata": {},
   "outputs": [],
   "source": [
    "embedding_layer = tf.keras.layers.Embedding(vocab_size,300,weights=[embedding_matrix],\n",
    "                                          input_length=30,trainable=False)"
   ]
  },
  {
   "cell_type": "code",
   "execution_count": 11,
   "id": "9e51881b",
   "metadata": {},
   "outputs": [],
   "source": [
    "# Import various layers needed for the architecture from keras\n",
    "from tensorflow.keras.layers import Conv1D, Bidirectional, LSTM, Dense, Input, Dropout\n",
    "from tensorflow.keras.layers import SpatialDropout1D, GlobalMaxPool1D\n",
    "from tensorflow.keras.callbacks import ModelCheckpoint\n",
    "\n",
    "# The Input layer \n",
    "sequence_input = Input(shape=(30,), dtype='int32')\n",
    "# Inputs passed to the embedding layer\n",
    "embedding_sequences = embedding_layer(sequence_input)\n",
    "\n",
    "# dropout and conv layer \n",
    "x = SpatialDropout1D(0.1)(embedding_sequences)\n",
    "\n",
    "x = Conv1D(64, 5, activation='relu')(x)\n",
    "\n",
    "x = GlobalMaxPool1D(keepdims=True)(x)\n",
    "\n",
    "# Passed on to the LSTM layer\n",
    "x = Bidirectional(LSTM(64, dropout=0.2, recurrent_dropout=0.2))(x)\n",
    "\n",
    "x = Dense(8, activation='relu')(x)\n",
    "\n",
    "# Passed on to activation layer to get final output\n",
    "outputs = Dense(1, activation='sigmoid')(x)\n",
    "model = tf.keras.Model(sequence_input, outputs)"
   ]
  },
  {
   "cell_type": "code",
   "execution_count": 12,
   "id": "5871a67d",
   "metadata": {},
   "outputs": [
    {
     "name": "stdout",
     "output_type": "stream",
     "text": [
      "Model: \"model\"\n",
      "_________________________________________________________________\n",
      " Layer (type)                Output Shape              Param #   \n",
      "=================================================================\n",
      " input_1 (InputLayer)        [(None, 30)]              0         \n",
      "                                                                 \n",
      " embedding (Embedding)       (None, 30, 300)           35956800  \n",
      "                                                                 \n",
      " spatial_dropout1d (SpatialD  (None, 30, 300)          0         \n",
      " ropout1D)                                                       \n",
      "                                                                 \n",
      " conv1d (Conv1D)             (None, 26, 64)            96064     \n",
      "                                                                 \n",
      " global_max_pooling1d (Globa  (None, 1, 64)            0         \n",
      " lMaxPooling1D)                                                  \n",
      "                                                                 \n",
      " bidirectional (Bidirectiona  (None, 128)              66048     \n",
      " l)                                                              \n",
      "                                                                 \n",
      " dense (Dense)               (None, 8)                 1032      \n",
      "                                                                 \n",
      " dense_1 (Dense)             (None, 1)                 9         \n",
      "                                                                 \n",
      "=================================================================\n",
      "Total params: 36,119,953\n",
      "Trainable params: 163,153\n",
      "Non-trainable params: 35,956,800\n",
      "_________________________________________________________________\n",
      "None\n"
     ]
    }
   ],
   "source": [
    "print(model.summary())"
   ]
  },
  {
   "cell_type": "code",
   "execution_count": 13,
   "id": "dac538ef",
   "metadata": {},
   "outputs": [],
   "source": [
    "\n",
    "from keras.callbacks import ModelCheckpoint\n",
    "import os\n",
    "\n",
    "output_dir = 'model_output/conv'\n",
    "modelcheckpoint = ModelCheckpoint(filepath=output_dir+'/weights.{epoch:02d}.hdf5')\n",
    "\n",
    "if not os.path.exists(output_dir):\n",
    "    os.makedirs(output_dir)\n",
    "    \n",
    "from tensorflow.keras.optimizers import Adam    \n",
    "model.compile(optimizer=Adam(learning_rate=0.05), loss='binary_crossentropy',metrics=['accuracy'])\n"
   ]
  },
  {
   "cell_type": "code",
   "execution_count": 14,
   "id": "0ee2ddf7",
   "metadata": {},
   "outputs": [
    {
     "name": "stdout",
     "output_type": "stream",
     "text": [
      "Epoch 1/10\n",
      "293/293 [==============================] - 18s 43ms/step - loss: 0.4945 - accuracy: 0.7768 - val_loss: 0.4594 - val_accuracy: 0.7923\n",
      "Epoch 2/10\n",
      "293/293 [==============================] - 12s 40ms/step - loss: 0.4602 - accuracy: 0.7922 - val_loss: 0.4502 - val_accuracy: 0.7988\n",
      "Epoch 3/10\n",
      "293/293 [==============================] - 12s 41ms/step - loss: 0.4574 - accuracy: 0.7952 - val_loss: 0.4702 - val_accuracy: 0.7947\n",
      "Epoch 4/10\n",
      "293/293 [==============================] - 12s 41ms/step - loss: 0.4682 - accuracy: 0.7905 - val_loss: 0.4786 - val_accuracy: 0.7829\n",
      "Epoch 5/10\n",
      "293/293 [==============================] - 12s 41ms/step - loss: 0.4702 - accuracy: 0.7897 - val_loss: 0.4634 - val_accuracy: 0.7930\n",
      "Epoch 6/10\n",
      "293/293 [==============================] - 12s 41ms/step - loss: 0.4646 - accuracy: 0.7892 - val_loss: 0.4593 - val_accuracy: 0.7916\n",
      "Epoch 7/10\n",
      "293/293 [==============================] - 12s 41ms/step - loss: 0.4626 - accuracy: 0.7902 - val_loss: 0.4595 - val_accuracy: 0.7824\n",
      "Epoch 8/10\n",
      "293/293 [==============================] - 12s 42ms/step - loss: 0.4577 - accuracy: 0.7938 - val_loss: 0.4568 - val_accuracy: 0.7905\n",
      "Epoch 9/10\n",
      "293/293 [==============================] - 12s 41ms/step - loss: 0.4556 - accuracy: 0.7948 - val_loss: 0.4547 - val_accuracy: 0.7916\n",
      "Epoch 10/10\n",
      "293/293 [==============================] - 12s 42ms/step - loss: 0.4555 - accuracy: 0.7950 - val_loss: 0.4539 - val_accuracy: 0.7932\n"
     ]
    }
   ],
   "source": [
    "training = model.fit(x_train[:150000], y_train[:150000], batch_size=512, epochs=10,\n",
    "                    validation_data=(x_test[:40000], y_test[:40000]), callbacks=[modelcheckpoint])"
   ]
  },
  {
   "cell_type": "code",
   "execution_count": 15,
   "id": "ef12b3dc",
   "metadata": {},
   "outputs": [
    {
     "name": "stdout",
     "output_type": "stream",
     "text": [
      "410/410 [==============================] - 6s 12ms/step\n"
     ]
    }
   ],
   "source": [
    "def predict_tweet_sentiment(score):\n",
    "    return 1 if score>0.5 else 0\n",
    "scores = model.predict(x_test, verbose=1, batch_size=512)\n",
    "model_predictions = [predict_tweet_sentiment(score) for score in scores]"
   ]
  },
  {
   "cell_type": "code",
   "execution_count": 16,
   "id": "f606c163",
   "metadata": {},
   "outputs": [
    {
     "name": "stdout",
     "output_type": "stream",
     "text": [
      "              precision    recall  f1-score   support\n",
      "\n",
      "           0       0.81      0.95      0.88    160196\n",
      "           1       0.64      0.28      0.39     49519\n",
      "\n",
      "    accuracy                           0.79    209715\n",
      "   macro avg       0.72      0.62      0.63    209715\n",
      "weighted avg       0.77      0.79      0.76    209715\n",
      "\n"
     ]
    }
   ],
   "source": [
    "from sklearn.metrics import classification_report\n",
    "print(classification_report(list(test_data['Sentiment']), model_predictions))"
   ]
  },
  {
   "cell_type": "code",
   "execution_count": 17,
   "id": "f30ed059",
   "metadata": {},
   "outputs": [
    {
     "name": "stdout",
     "output_type": "stream",
     "text": [
      "76.84\n"
     ]
    }
   ],
   "source": [
    "import sklearn.metrics\n",
    "from sklearn.metrics import roc_auc_score\n",
    "import pandas as pd\n",
    "import matplotlib.pyplot as plt\n",
    "\n",
    "# In my case it was the seventh one: 'weights.07.hdf5'\n",
    "model.load_weights(output_dir+'/weights.07.hdf5')\n",
    "y_hat = model.predict_on_batch(x_test)\n",
    "pct_auc = roc_auc_score(y_test, y_hat) * 100\n",
    "print('{:0.2f}'.format(pct_auc))"
   ]
  },
  {
   "cell_type": "code",
   "execution_count": 18,
   "id": "f10db59d",
   "metadata": {},
   "outputs": [
    {
     "data": {
      "image/png": "[encoded data removed]",
      "text/plain": [
       "<Figure size 640x480 with 1 Axes>"
      ]
     },
     "metadata": {},
     "output_type": "display_data"
    }
   ],
   "source": [
    "fpr, tpr, _ = sklearn.metrics.roc_curve(y_test, y_hat)\n",
    "roc_auc = sklearn.metrics.auc(fpr, tpr)\n",
    "plt.figure()\n",
    "lw = 2\n",
    "plt.plot(fpr, tpr, color='darkorange',\n",
    "         lw=lw, label='ROC curve (area = %0.2f)' % roc_auc)\n",
    "plt.plot([0, 1], [0, 1], color='navy', lw=lw, linestyle='--')\n",
    "plt.xlim([0.0, 1.0])\n",
    "plt.ylim([0.0, 1.05])\n",
    "plt.xlabel('False Positive Rate')\n",
    "plt.ylabel('True Positive Rate')\n",
    "plt.title('Receiver Operating Characteristic')\n",
    "plt.legend(loc=\"lower right\")\n",
    "plt.show()"
   ]
  },
  {
   "cell_type": "code",
   "execution_count": null,
   "id": "8fda417e",
   "metadata": {},
   "outputs": [],
   "source": []
  }
 ],
 "metadata": {
  "kernelspec": {
   "display_name": "Python 3 (ipykernel)",
   "language": "python",
   "name": "python3"
  },
  "language_info": {
   "codemirror_mode": {
    "name": "ipython",
    "version": 3
   },
   "file_extension": ".py",
   "mimetype": "text/x-python",
   "name": "python",
   "nbconvert_exporter": "python",
   "pygments_lexer": "ipython3",
   "version": "3.10.9"
  }
 },
 "nbformat": 4,
 "nbformat_minor": 5
}
